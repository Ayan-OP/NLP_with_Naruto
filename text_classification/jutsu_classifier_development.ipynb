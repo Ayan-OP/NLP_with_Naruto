{
 "cells": [
  {
   "cell_type": "code",
   "execution_count": 21,
   "metadata": {},
   "outputs": [],
   "source": [
    "import pandas as pd\n",
    "from bs4 import BeautifulSoup\n",
    "from sklearn.preprocessing import LabelEncoder\n",
    "from sklearn.model_selection import train_test_split\n",
    "from transformers import AutoTokenizer\n",
    "import pyarrow \n",
    "from datasets import Dataset"
   ]
  },
  {
   "cell_type": "code",
   "execution_count": null,
   "metadata": {},
   "outputs": [],
   "source": []
  },
  {
   "cell_type": "markdown",
   "metadata": {},
   "source": [
    "# Load Dataset"
   ]
  },
  {
   "cell_type": "code",
   "execution_count": 2,
   "metadata": {},
   "outputs": [
    {
     "data": {
      "text/html": [
       "<div>\n",
       "<style scoped>\n",
       "    .dataframe tbody tr th:only-of-type {\n",
       "        vertical-align: middle;\n",
       "    }\n",
       "\n",
       "    .dataframe tbody tr th {\n",
       "        vertical-align: top;\n",
       "    }\n",
       "\n",
       "    .dataframe thead th {\n",
       "        text-align: right;\n",
       "    }\n",
       "</style>\n",
       "<table border=\"1\" class=\"dataframe\">\n",
       "  <thead>\n",
       "    <tr style=\"text-align: right;\">\n",
       "      <th></th>\n",
       "      <th>jutsu_name</th>\n",
       "      <th>jutsu_type</th>\n",
       "      <th>jutsu_description</th>\n",
       "    </tr>\n",
       "  </thead>\n",
       "  <tbody>\n",
       "    <tr>\n",
       "      <th>0</th>\n",
       "      <td>10 Hit Combo</td>\n",
       "      <td>Taijutsu</td>\n",
       "      <td>Lars punches the opponent before striking them...</td>\n",
       "    </tr>\n",
       "    <tr>\n",
       "      <th>1</th>\n",
       "      <td>Battōjutsu</td>\n",
       "      <td>Kenjutsu</td>\n",
       "      <td>User attacks the enemy with a sword at an incr...</td>\n",
       "    </tr>\n",
       "    <tr>\n",
       "      <th>2</th>\n",
       "      <td>Bat Controlling: Ultrasonic Mind Waves</td>\n",
       "      <td>Ninjutsu</td>\n",
       "      <td>Once Rinji controls his bats, he commands them...</td>\n",
       "    </tr>\n",
       "    <tr>\n",
       "      <th>3</th>\n",
       "      <td>Beast-Human Fury Kicks</td>\n",
       "      <td>Hiden, Taijutsu</td>\n",
       "      <td>In their transformed state, a Tenrō clan shino...</td>\n",
       "    </tr>\n",
       "    <tr>\n",
       "      <th>4</th>\n",
       "      <td>Beast Tearing Gale Palm</td>\n",
       "      <td>Ninjutsu</td>\n",
       "      <td>This technique is somewhat of an enhanced vers...</td>\n",
       "    </tr>\n",
       "  </tbody>\n",
       "</table>\n",
       "</div>"
      ],
      "text/plain": [
       "                               jutsu_name       jutsu_type  \\\n",
       "0                            10 Hit Combo         Taijutsu   \n",
       "1                              Battōjutsu         Kenjutsu   \n",
       "2  Bat Controlling: Ultrasonic Mind Waves         Ninjutsu   \n",
       "3                  Beast-Human Fury Kicks  Hiden, Taijutsu   \n",
       "4                 Beast Tearing Gale Palm         Ninjutsu   \n",
       "\n",
       "                                   jutsu_description  \n",
       "0  Lars punches the opponent before striking them...  \n",
       "1  User attacks the enemy with a sword at an incr...  \n",
       "2  Once Rinji controls his bats, he commands them...  \n",
       "3  In their transformed state, a Tenrō clan shino...  \n",
       "4  This technique is somewhat of an enhanced vers...  "
      ]
     },
     "execution_count": 2,
     "metadata": {},
     "output_type": "execute_result"
    }
   ],
   "source": [
    "data_path = '../data/jutsus.jsonl'\n",
    "df = pd.read_json(data_path, lines=True)\n",
    "df.head()"
   ]
  },
  {
   "cell_type": "code",
   "execution_count": 3,
   "metadata": {},
   "outputs": [],
   "source": [
    "def simplify_justsu(jutsu):\n",
    "    if 'Genjutsu' in jutsu:\n",
    "        return 'Genjutsu'\n",
    "    if 'Ninjutsu' in jutsu:\n",
    "        return 'Ninjutsu'\n",
    "    if 'Taijutsu' in jutsu:\n",
    "        return 'Taijutsu'"
   ]
  },
  {
   "cell_type": "code",
   "execution_count": 4,
   "metadata": {},
   "outputs": [
    {
     "data": {
      "text/html": [
       "<div>\n",
       "<style scoped>\n",
       "    .dataframe tbody tr th:only-of-type {\n",
       "        vertical-align: middle;\n",
       "    }\n",
       "\n",
       "    .dataframe tbody tr th {\n",
       "        vertical-align: top;\n",
       "    }\n",
       "\n",
       "    .dataframe thead th {\n",
       "        text-align: right;\n",
       "    }\n",
       "</style>\n",
       "<table border=\"1\" class=\"dataframe\">\n",
       "  <thead>\n",
       "    <tr style=\"text-align: right;\">\n",
       "      <th></th>\n",
       "      <th>jutsu_name</th>\n",
       "      <th>jutsu_type</th>\n",
       "      <th>jutsu_description</th>\n",
       "      <th>jutsu_type_simplified</th>\n",
       "    </tr>\n",
       "  </thead>\n",
       "  <tbody>\n",
       "    <tr>\n",
       "      <th>0</th>\n",
       "      <td>10 Hit Combo</td>\n",
       "      <td>Taijutsu</td>\n",
       "      <td>Lars punches the opponent before striking them...</td>\n",
       "      <td>Taijutsu</td>\n",
       "    </tr>\n",
       "    <tr>\n",
       "      <th>1</th>\n",
       "      <td>Battōjutsu</td>\n",
       "      <td>Kenjutsu</td>\n",
       "      <td>User attacks the enemy with a sword at an incr...</td>\n",
       "      <td>None</td>\n",
       "    </tr>\n",
       "    <tr>\n",
       "      <th>2</th>\n",
       "      <td>Bat Controlling: Ultrasonic Mind Waves</td>\n",
       "      <td>Ninjutsu</td>\n",
       "      <td>Once Rinji controls his bats, he commands them...</td>\n",
       "      <td>Ninjutsu</td>\n",
       "    </tr>\n",
       "    <tr>\n",
       "      <th>3</th>\n",
       "      <td>Beast-Human Fury Kicks</td>\n",
       "      <td>Hiden, Taijutsu</td>\n",
       "      <td>In their transformed state, a Tenrō clan shino...</td>\n",
       "      <td>Taijutsu</td>\n",
       "    </tr>\n",
       "    <tr>\n",
       "      <th>4</th>\n",
       "      <td>Beast Tearing Gale Palm</td>\n",
       "      <td>Ninjutsu</td>\n",
       "      <td>This technique is somewhat of an enhanced vers...</td>\n",
       "      <td>Ninjutsu</td>\n",
       "    </tr>\n",
       "    <tr>\n",
       "      <th>5</th>\n",
       "      <td>Beast Human Clone</td>\n",
       "      <td>Ninjutsu, Clone Techniques</td>\n",
       "      <td>An \"Imitation Human Ninja Art\" (擬人忍法, Gijin Ni...</td>\n",
       "      <td>Ninjutsu</td>\n",
       "    </tr>\n",
       "    <tr>\n",
       "      <th>6</th>\n",
       "      <td>Bee Bomb Technique</td>\n",
       "      <td>Hiden, Ninjutsu</td>\n",
       "      <td>This is a technique in which bees bombard the ...</td>\n",
       "      <td>Ninjutsu</td>\n",
       "    </tr>\n",
       "    <tr>\n",
       "      <th>7</th>\n",
       "      <td>Beast-Human Needle Senbon</td>\n",
       "      <td>Hiden, Ninjutsu</td>\n",
       "      <td>In their transformed state, a Tenrō clan shino...</td>\n",
       "      <td>Ninjutsu</td>\n",
       "    </tr>\n",
       "    <tr>\n",
       "      <th>8</th>\n",
       "      <td>Beast Tearing Palm</td>\n",
       "      <td>Ninjutsu</td>\n",
       "      <td>A powerful technique of wind nature chakra tha...</td>\n",
       "      <td>Ninjutsu</td>\n",
       "    </tr>\n",
       "    <tr>\n",
       "      <th>9</th>\n",
       "      <td>Beast Sealing Technique</td>\n",
       "      <td>Ninjutsu, Fūinjutsu</td>\n",
       "      <td>After creating the necessary seals, the seal f...</td>\n",
       "      <td>Ninjutsu</td>\n",
       "    </tr>\n",
       "    <tr>\n",
       "      <th>10</th>\n",
       "      <td>Bat Controlling</td>\n",
       "      <td>Ninjutsu</td>\n",
       "      <td>Rinji has the special ability to produce ultra...</td>\n",
       "      <td>Ninjutsu</td>\n",
       "    </tr>\n",
       "    <tr>\n",
       "      <th>11</th>\n",
       "      <td>Bashōsen: Coil of Wind</td>\n",
       "      <td>Ninjutsu, Bukijutsu</td>\n",
       "      <td>Swinging the Bashōsen, the user creates a powe...</td>\n",
       "      <td>Ninjutsu</td>\n",
       "    </tr>\n",
       "    <tr>\n",
       "      <th>12</th>\n",
       "      <td>Bashōsen: Coil of Earth</td>\n",
       "      <td>Ninjutsu, Bukijutsu</td>\n",
       "      <td>Waving the Bashōsen down towards the ground, t...</td>\n",
       "      <td>Ninjutsu</td>\n",
       "    </tr>\n",
       "    <tr>\n",
       "      <th>13</th>\n",
       "      <td>Cat Genjutsu</td>\n",
       "      <td>Genjutsu</td>\n",
       "      <td>The user uses a genjutsu where the whole place...</td>\n",
       "      <td>Genjutsu</td>\n",
       "    </tr>\n",
       "    <tr>\n",
       "      <th>14</th>\n",
       "      <td>Bashōsen: Coil of Water</td>\n",
       "      <td>Ninjutsu, Bukijutsu</td>\n",
       "      <td>Waving the Bashōsen, the user unleashes a torr...</td>\n",
       "      <td>Ninjutsu</td>\n",
       "    </tr>\n",
       "    <tr>\n",
       "      <th>15</th>\n",
       "      <td>Bashōsen: Coil of Lightning</td>\n",
       "      <td>Ninjutsu, Bukijutsu</td>\n",
       "      <td>Waving the Bashōsen downwards, the user causes...</td>\n",
       "      <td>Ninjutsu</td>\n",
       "    </tr>\n",
       "    <tr>\n",
       "      <th>16</th>\n",
       "      <td>Cat Food Clone</td>\n",
       "      <td>Ninjutsu</td>\n",
       "      <td>The ninneko creates a decoy of itself made out...</td>\n",
       "      <td>Ninjutsu</td>\n",
       "    </tr>\n",
       "    <tr>\n",
       "      <th>17</th>\n",
       "      <td>Cat Flame Roaring Fire</td>\n",
       "      <td>Ninjutsu</td>\n",
       "      <td>While transformed as Matatabi, Yugito forms a ...</td>\n",
       "      <td>Ninjutsu</td>\n",
       "    </tr>\n",
       "    <tr>\n",
       "      <th>18</th>\n",
       "      <td>Cat Claw Foot</td>\n",
       "      <td>Taijutsu</td>\n",
       "      <td>Yugito zig-zags around the fighting area and t...</td>\n",
       "      <td>Taijutsu</td>\n",
       "    </tr>\n",
       "    <tr>\n",
       "      <th>19</th>\n",
       "      <td>Cat Claw</td>\n",
       "      <td>Taijutsu</td>\n",
       "      <td>While in her transformed state, Yugito slashes...</td>\n",
       "      <td>Taijutsu</td>\n",
       "    </tr>\n",
       "  </tbody>\n",
       "</table>\n",
       "</div>"
      ],
      "text/plain": [
       "                                jutsu_name                  jutsu_type  \\\n",
       "0                             10 Hit Combo                    Taijutsu   \n",
       "1                               Battōjutsu                    Kenjutsu   \n",
       "2   Bat Controlling: Ultrasonic Mind Waves                    Ninjutsu   \n",
       "3                   Beast-Human Fury Kicks             Hiden, Taijutsu   \n",
       "4                  Beast Tearing Gale Palm                    Ninjutsu   \n",
       "5                        Beast Human Clone  Ninjutsu, Clone Techniques   \n",
       "6                       Bee Bomb Technique             Hiden, Ninjutsu   \n",
       "7                Beast-Human Needle Senbon             Hiden, Ninjutsu   \n",
       "8                       Beast Tearing Palm                    Ninjutsu   \n",
       "9                  Beast Sealing Technique         Ninjutsu, Fūinjutsu   \n",
       "10                         Bat Controlling                    Ninjutsu   \n",
       "11                  Bashōsen: Coil of Wind         Ninjutsu, Bukijutsu   \n",
       "12                 Bashōsen: Coil of Earth         Ninjutsu, Bukijutsu   \n",
       "13                            Cat Genjutsu                    Genjutsu   \n",
       "14                 Bashōsen: Coil of Water         Ninjutsu, Bukijutsu   \n",
       "15             Bashōsen: Coil of Lightning         Ninjutsu, Bukijutsu   \n",
       "16                          Cat Food Clone                    Ninjutsu   \n",
       "17                  Cat Flame Roaring Fire                    Ninjutsu   \n",
       "18                           Cat Claw Foot                    Taijutsu   \n",
       "19                                Cat Claw                    Taijutsu   \n",
       "\n",
       "                                    jutsu_description jutsu_type_simplified  \n",
       "0   Lars punches the opponent before striking them...              Taijutsu  \n",
       "1   User attacks the enemy with a sword at an incr...                  None  \n",
       "2   Once Rinji controls his bats, he commands them...              Ninjutsu  \n",
       "3   In their transformed state, a Tenrō clan shino...              Taijutsu  \n",
       "4   This technique is somewhat of an enhanced vers...              Ninjutsu  \n",
       "5   An \"Imitation Human Ninja Art\" (擬人忍法, Gijin Ni...              Ninjutsu  \n",
       "6   This is a technique in which bees bombard the ...              Ninjutsu  \n",
       "7   In their transformed state, a Tenrō clan shino...              Ninjutsu  \n",
       "8   A powerful technique of wind nature chakra tha...              Ninjutsu  \n",
       "9   After creating the necessary seals, the seal f...              Ninjutsu  \n",
       "10  Rinji has the special ability to produce ultra...              Ninjutsu  \n",
       "11  Swinging the Bashōsen, the user creates a powe...              Ninjutsu  \n",
       "12  Waving the Bashōsen down towards the ground, t...              Ninjutsu  \n",
       "13  The user uses a genjutsu where the whole place...              Genjutsu  \n",
       "14  Waving the Bashōsen, the user unleashes a torr...              Ninjutsu  \n",
       "15  Waving the Bashōsen downwards, the user causes...              Ninjutsu  \n",
       "16  The ninneko creates a decoy of itself made out...              Ninjutsu  \n",
       "17  While transformed as Matatabi, Yugito forms a ...              Ninjutsu  \n",
       "18  Yugito zig-zags around the fighting area and t...              Taijutsu  \n",
       "19  While in her transformed state, Yugito slashes...              Taijutsu  "
      ]
     },
     "execution_count": 4,
     "metadata": {},
     "output_type": "execute_result"
    }
   ],
   "source": [
    "df['jutsu_type_simplified'] = df['jutsu_type'].apply(simplify_justsu)\n",
    "df.head(20)"
   ]
  },
  {
   "cell_type": "code",
   "execution_count": 5,
   "metadata": {},
   "outputs": [
    {
     "data": {
      "text/plain": [
       "jutsu_type_simplified\n",
       "Ninjutsu    2258\n",
       "Taijutsu     397\n",
       "Genjutsu     101\n",
       "Name: count, dtype: int64"
      ]
     },
     "execution_count": 5,
     "metadata": {},
     "output_type": "execute_result"
    }
   ],
   "source": [
    "df['jutsu_type_simplified'].value_counts()"
   ]
  },
  {
   "cell_type": "code",
   "execution_count": 6,
   "metadata": {},
   "outputs": [
    {
     "data": {
      "text/html": [
       "<div>\n",
       "<style scoped>\n",
       "    .dataframe tbody tr th:only-of-type {\n",
       "        vertical-align: middle;\n",
       "    }\n",
       "\n",
       "    .dataframe tbody tr th {\n",
       "        vertical-align: top;\n",
       "    }\n",
       "\n",
       "    .dataframe thead th {\n",
       "        text-align: right;\n",
       "    }\n",
       "</style>\n",
       "<table border=\"1\" class=\"dataframe\">\n",
       "  <thead>\n",
       "    <tr style=\"text-align: right;\">\n",
       "      <th></th>\n",
       "      <th>text</th>\n",
       "      <th>jutsus</th>\n",
       "    </tr>\n",
       "  </thead>\n",
       "  <tbody>\n",
       "    <tr>\n",
       "      <th>0</th>\n",
       "      <td>10 Hit Combo. Lars punches the opponent before...</td>\n",
       "      <td>Taijutsu</td>\n",
       "    </tr>\n",
       "    <tr>\n",
       "      <th>2</th>\n",
       "      <td>Bat Controlling: Ultrasonic Mind Waves. Once R...</td>\n",
       "      <td>Ninjutsu</td>\n",
       "    </tr>\n",
       "    <tr>\n",
       "      <th>3</th>\n",
       "      <td>Beast-Human Fury Kicks. In their transformed s...</td>\n",
       "      <td>Taijutsu</td>\n",
       "    </tr>\n",
       "    <tr>\n",
       "      <th>4</th>\n",
       "      <td>Beast Tearing Gale Palm. This technique is som...</td>\n",
       "      <td>Ninjutsu</td>\n",
       "    </tr>\n",
       "    <tr>\n",
       "      <th>5</th>\n",
       "      <td>Beast Human Clone. An \"Imitation Human Ninja A...</td>\n",
       "      <td>Ninjutsu</td>\n",
       "    </tr>\n",
       "  </tbody>\n",
       "</table>\n",
       "</div>"
      ],
      "text/plain": [
       "                                                text    jutsus\n",
       "0  10 Hit Combo. Lars punches the opponent before...  Taijutsu\n",
       "2  Bat Controlling: Ultrasonic Mind Waves. Once R...  Ninjutsu\n",
       "3  Beast-Human Fury Kicks. In their transformed s...  Taijutsu\n",
       "4  Beast Tearing Gale Palm. This technique is som...  Ninjutsu\n",
       "5  Beast Human Clone. An \"Imitation Human Ninja A...  Ninjutsu"
      ]
     },
     "execution_count": 6,
     "metadata": {},
     "output_type": "execute_result"
    }
   ],
   "source": [
    "df['text'] = df['jutsu_name'] + '. ' + df['jutsu_description']\n",
    "df['jutsus'] = df['jutsu_type_simplified']\n",
    "df = df[['text', 'jutsus']]\n",
    "df = df.dropna()\n",
    "df.head()"
   ]
  },
  {
   "cell_type": "code",
   "execution_count": 7,
   "metadata": {},
   "outputs": [
    {
     "data": {
      "text/plain": [
       "jutsus\n",
       "Ninjutsu    2258\n",
       "Taijutsu     397\n",
       "Genjutsu     101\n",
       "Name: count, dtype: int64"
      ]
     },
     "execution_count": 7,
     "metadata": {},
     "output_type": "execute_result"
    }
   ],
   "source": [
    "df['jutsus'].value_counts()"
   ]
  },
  {
   "cell_type": "code",
   "execution_count": 8,
   "metadata": {},
   "outputs": [],
   "source": [
    "class Cleaner():\n",
    "    def __init__(self):\n",
    "        pass\n",
    "    \n",
    "    def put_line_breaks(self, text):   # put line breaks after each paragraph\n",
    "        return text.replace('<\\p>', '<\\p>\\n')\n",
    "    \n",
    "    def remove_html_tags(self, text):\n",
    "        clean_text = BeautifulSoup(text, 'lxml').text\n",
    "        return clean_text\n",
    "    \n",
    "    def clean(self, text):\n",
    "        text = self.put_line_breaks(text)\n",
    "        text = self.remove_html_tags(text)\n",
    "        text = text.strip()\n",
    "        \n",
    "        return text\n",
    "        "
   ]
  },
  {
   "cell_type": "code",
   "execution_count": 9,
   "metadata": {},
   "outputs": [],
   "source": [
    "text_column_name = 'text'\n",
    "label_column_name = 'jutsus'"
   ]
  },
  {
   "cell_type": "code",
   "execution_count": 10,
   "metadata": {},
   "outputs": [
    {
     "name": "stderr",
     "output_type": "stream",
     "text": [
      "C:\\Users\\ayaan\\AppData\\Local\\Temp\\ipykernel_22392\\3134066220.py:9: MarkupResemblesLocatorWarning: The input looks more like a filename than markup. You may want to open this file and pass the filehandle into Beautiful Soup.\n",
      "  clean_text = BeautifulSoup(text, 'lxml').text\n"
     ]
    }
   ],
   "source": [
    "# Clean Text\n",
    "cleaner = Cleaner()\n",
    "df['text_cleaned'] = df[text_column_name].apply(cleaner.clean)"
   ]
  },
  {
   "cell_type": "code",
   "execution_count": 11,
   "metadata": {},
   "outputs": [
    {
     "data": {
      "text/html": [
       "<div>\n",
       "<style scoped>\n",
       "    .dataframe tbody tr th:only-of-type {\n",
       "        vertical-align: middle;\n",
       "    }\n",
       "\n",
       "    .dataframe tbody tr th {\n",
       "        vertical-align: top;\n",
       "    }\n",
       "\n",
       "    .dataframe thead th {\n",
       "        text-align: right;\n",
       "    }\n",
       "</style>\n",
       "<table border=\"1\" class=\"dataframe\">\n",
       "  <thead>\n",
       "    <tr style=\"text-align: right;\">\n",
       "      <th></th>\n",
       "      <th>text</th>\n",
       "      <th>jutsus</th>\n",
       "      <th>text_cleaned</th>\n",
       "    </tr>\n",
       "  </thead>\n",
       "  <tbody>\n",
       "    <tr>\n",
       "      <th>0</th>\n",
       "      <td>10 Hit Combo. Lars punches the opponent before...</td>\n",
       "      <td>Taijutsu</td>\n",
       "      <td>10 Hit Combo. Lars punches the opponent before...</td>\n",
       "    </tr>\n",
       "    <tr>\n",
       "      <th>2</th>\n",
       "      <td>Bat Controlling: Ultrasonic Mind Waves. Once R...</td>\n",
       "      <td>Ninjutsu</td>\n",
       "      <td>Bat Controlling: Ultrasonic Mind Waves. Once R...</td>\n",
       "    </tr>\n",
       "  </tbody>\n",
       "</table>\n",
       "</div>"
      ],
      "text/plain": [
       "                                                text    jutsus  \\\n",
       "0  10 Hit Combo. Lars punches the opponent before...  Taijutsu   \n",
       "2  Bat Controlling: Ultrasonic Mind Waves. Once R...  Ninjutsu   \n",
       "\n",
       "                                        text_cleaned  \n",
       "0  10 Hit Combo. Lars punches the opponent before...  \n",
       "2  Bat Controlling: Ultrasonic Mind Waves. Once R...  "
      ]
     },
     "execution_count": 11,
     "metadata": {},
     "output_type": "execute_result"
    }
   ],
   "source": [
    "df.head(2)"
   ]
  },
  {
   "cell_type": "code",
   "execution_count": 12,
   "metadata": {},
   "outputs": [
    {
     "data": {
      "text/html": [
       "<style>#sk-container-id-1 {color: black;}#sk-container-id-1 pre{padding: 0;}#sk-container-id-1 div.sk-toggleable {background-color: white;}#sk-container-id-1 label.sk-toggleable__label {cursor: pointer;display: block;width: 100%;margin-bottom: 0;padding: 0.3em;box-sizing: border-box;text-align: center;}#sk-container-id-1 label.sk-toggleable__label-arrow:before {content: \"▸\";float: left;margin-right: 0.25em;color: #696969;}#sk-container-id-1 label.sk-toggleable__label-arrow:hover:before {color: black;}#sk-container-id-1 div.sk-estimator:hover label.sk-toggleable__label-arrow:before {color: black;}#sk-container-id-1 div.sk-toggleable__content {max-height: 0;max-width: 0;overflow: hidden;text-align: left;background-color: #f0f8ff;}#sk-container-id-1 div.sk-toggleable__content pre {margin: 0.2em;color: black;border-radius: 0.25em;background-color: #f0f8ff;}#sk-container-id-1 input.sk-toggleable__control:checked~div.sk-toggleable__content {max-height: 200px;max-width: 100%;overflow: auto;}#sk-container-id-1 input.sk-toggleable__control:checked~label.sk-toggleable__label-arrow:before {content: \"▾\";}#sk-container-id-1 div.sk-estimator input.sk-toggleable__control:checked~label.sk-toggleable__label {background-color: #d4ebff;}#sk-container-id-1 div.sk-label input.sk-toggleable__control:checked~label.sk-toggleable__label {background-color: #d4ebff;}#sk-container-id-1 input.sk-hidden--visually {border: 0;clip: rect(1px 1px 1px 1px);clip: rect(1px, 1px, 1px, 1px);height: 1px;margin: -1px;overflow: hidden;padding: 0;position: absolute;width: 1px;}#sk-container-id-1 div.sk-estimator {font-family: monospace;background-color: #f0f8ff;border: 1px dotted black;border-radius: 0.25em;box-sizing: border-box;margin-bottom: 0.5em;}#sk-container-id-1 div.sk-estimator:hover {background-color: #d4ebff;}#sk-container-id-1 div.sk-parallel-item::after {content: \"\";width: 100%;border-bottom: 1px solid gray;flex-grow: 1;}#sk-container-id-1 div.sk-label:hover label.sk-toggleable__label {background-color: #d4ebff;}#sk-container-id-1 div.sk-serial::before {content: \"\";position: absolute;border-left: 1px solid gray;box-sizing: border-box;top: 0;bottom: 0;left: 50%;z-index: 0;}#sk-container-id-1 div.sk-serial {display: flex;flex-direction: column;align-items: center;background-color: white;padding-right: 0.2em;padding-left: 0.2em;position: relative;}#sk-container-id-1 div.sk-item {position: relative;z-index: 1;}#sk-container-id-1 div.sk-parallel {display: flex;align-items: stretch;justify-content: center;background-color: white;position: relative;}#sk-container-id-1 div.sk-item::before, #sk-container-id-1 div.sk-parallel-item::before {content: \"\";position: absolute;border-left: 1px solid gray;box-sizing: border-box;top: 0;bottom: 0;left: 50%;z-index: -1;}#sk-container-id-1 div.sk-parallel-item {display: flex;flex-direction: column;z-index: 1;position: relative;background-color: white;}#sk-container-id-1 div.sk-parallel-item:first-child::after {align-self: flex-end;width: 50%;}#sk-container-id-1 div.sk-parallel-item:last-child::after {align-self: flex-start;width: 50%;}#sk-container-id-1 div.sk-parallel-item:only-child::after {width: 0;}#sk-container-id-1 div.sk-dashed-wrapped {border: 1px dashed gray;margin: 0 0.4em 0.5em 0.4em;box-sizing: border-box;padding-bottom: 0.4em;background-color: white;}#sk-container-id-1 div.sk-label label {font-family: monospace;font-weight: bold;display: inline-block;line-height: 1.2em;}#sk-container-id-1 div.sk-label-container {text-align: center;}#sk-container-id-1 div.sk-container {/* jupyter's `normalize.less` sets `[hidden] { display: none; }` but bootstrap.min.css set `[hidden] { display: none !important; }` so we also need the `!important` here to be able to override the default hidden behavior on the sphinx rendered scikit-learn.org. See: https://github.com/scikit-learn/scikit-learn/issues/21755 */display: inline-block !important;position: relative;}#sk-container-id-1 div.sk-text-repr-fallback {display: none;}</style><div id=\"sk-container-id-1\" class=\"sk-top-container\"><div class=\"sk-text-repr-fallback\"><pre>LabelEncoder()</pre><b>In a Jupyter environment, please rerun this cell to show the HTML representation or trust the notebook. <br />On GitHub, the HTML representation is unable to render, please try loading this page with nbviewer.org.</b></div><div class=\"sk-container\" hidden><div class=\"sk-item\"><div class=\"sk-estimator sk-toggleable\"><input class=\"sk-toggleable__control sk-hidden--visually\" id=\"sk-estimator-id-1\" type=\"checkbox\" checked><label for=\"sk-estimator-id-1\" class=\"sk-toggleable__label sk-toggleable__label-arrow\">LabelEncoder</label><div class=\"sk-toggleable__content\"><pre>LabelEncoder()</pre></div></div></div></div></div>"
      ],
      "text/plain": [
       "LabelEncoder()"
      ]
     },
     "execution_count": 12,
     "metadata": {},
     "output_type": "execute_result"
    }
   ],
   "source": [
    "# Encode labels\n",
    "le = LabelEncoder()\n",
    "le.fit(df[label_column_name].tolist())"
   ]
  },
  {
   "cell_type": "code",
   "execution_count": 13,
   "metadata": {},
   "outputs": [
    {
     "data": {
      "text/plain": [
       "{0: 'Genjutsu', 1: 'Ninjutsu', 2: 'Taijutsu'}"
      ]
     },
     "execution_count": 13,
     "metadata": {},
     "output_type": "execute_result"
    }
   ],
   "source": [
    "label_dict = {index:label_name for index, label_name in enumerate(le.__dict__['classes_'])}\n",
    "label_dict"
   ]
  },
  {
   "cell_type": "code",
   "execution_count": 14,
   "metadata": {},
   "outputs": [],
   "source": [
    "df['label'] = le.transform(df[label_column_name].tolist())"
   ]
  },
  {
   "cell_type": "code",
   "execution_count": 15,
   "metadata": {},
   "outputs": [
    {
     "data": {
      "text/html": [
       "<div>\n",
       "<style scoped>\n",
       "    .dataframe tbody tr th:only-of-type {\n",
       "        vertical-align: middle;\n",
       "    }\n",
       "\n",
       "    .dataframe tbody tr th {\n",
       "        vertical-align: top;\n",
       "    }\n",
       "\n",
       "    .dataframe thead th {\n",
       "        text-align: right;\n",
       "    }\n",
       "</style>\n",
       "<table border=\"1\" class=\"dataframe\">\n",
       "  <thead>\n",
       "    <tr style=\"text-align: right;\">\n",
       "      <th></th>\n",
       "      <th>text</th>\n",
       "      <th>jutsus</th>\n",
       "      <th>text_cleaned</th>\n",
       "      <th>label</th>\n",
       "    </tr>\n",
       "  </thead>\n",
       "  <tbody>\n",
       "    <tr>\n",
       "      <th>0</th>\n",
       "      <td>10 Hit Combo. Lars punches the opponent before...</td>\n",
       "      <td>Taijutsu</td>\n",
       "      <td>10 Hit Combo. Lars punches the opponent before...</td>\n",
       "      <td>2</td>\n",
       "    </tr>\n",
       "    <tr>\n",
       "      <th>2</th>\n",
       "      <td>Bat Controlling: Ultrasonic Mind Waves. Once R...</td>\n",
       "      <td>Ninjutsu</td>\n",
       "      <td>Bat Controlling: Ultrasonic Mind Waves. Once R...</td>\n",
       "      <td>1</td>\n",
       "    </tr>\n",
       "    <tr>\n",
       "      <th>3</th>\n",
       "      <td>Beast-Human Fury Kicks. In their transformed s...</td>\n",
       "      <td>Taijutsu</td>\n",
       "      <td>Beast-Human Fury Kicks. In their transformed s...</td>\n",
       "      <td>2</td>\n",
       "    </tr>\n",
       "    <tr>\n",
       "      <th>4</th>\n",
       "      <td>Beast Tearing Gale Palm. This technique is som...</td>\n",
       "      <td>Ninjutsu</td>\n",
       "      <td>Beast Tearing Gale Palm. This technique is som...</td>\n",
       "      <td>1</td>\n",
       "    </tr>\n",
       "    <tr>\n",
       "      <th>5</th>\n",
       "      <td>Beast Human Clone. An \"Imitation Human Ninja A...</td>\n",
       "      <td>Ninjutsu</td>\n",
       "      <td>Beast Human Clone. An \"Imitation Human Ninja A...</td>\n",
       "      <td>1</td>\n",
       "    </tr>\n",
       "  </tbody>\n",
       "</table>\n",
       "</div>"
      ],
      "text/plain": [
       "                                                text    jutsus  \\\n",
       "0  10 Hit Combo. Lars punches the opponent before...  Taijutsu   \n",
       "2  Bat Controlling: Ultrasonic Mind Waves. Once R...  Ninjutsu   \n",
       "3  Beast-Human Fury Kicks. In their transformed s...  Taijutsu   \n",
       "4  Beast Tearing Gale Palm. This technique is som...  Ninjutsu   \n",
       "5  Beast Human Clone. An \"Imitation Human Ninja A...  Ninjutsu   \n",
       "\n",
       "                                        text_cleaned  label  \n",
       "0  10 Hit Combo. Lars punches the opponent before...      2  \n",
       "2  Bat Controlling: Ultrasonic Mind Waves. Once R...      1  \n",
       "3  Beast-Human Fury Kicks. In their transformed s...      2  \n",
       "4  Beast Tearing Gale Palm. This technique is som...      1  \n",
       "5  Beast Human Clone. An \"Imitation Human Ninja A...      1  "
      ]
     },
     "execution_count": 15,
     "metadata": {},
     "output_type": "execute_result"
    }
   ],
   "source": [
    "df.head()"
   ]
  },
  {
   "cell_type": "code",
   "execution_count": 16,
   "metadata": {},
   "outputs": [],
   "source": [
    "test_size = 0.2\n",
    "df_train, df_test = train_test_split(df, \n",
    "                                     test_size = test_size,\n",
    "                                     stratify = df['label'],\n",
    "                                     random_state = 42)"
   ]
  },
  {
   "cell_type": "code",
   "execution_count": 17,
   "metadata": {},
   "outputs": [
    {
     "data": {
      "text/plain": [
       "jutsus\n",
       "Ninjutsu    1806\n",
       "Taijutsu     317\n",
       "Genjutsu      81\n",
       "Name: count, dtype: int64"
      ]
     },
     "execution_count": 17,
     "metadata": {},
     "output_type": "execute_result"
    }
   ],
   "source": [
    "df_train['jutsus'].value_counts()"
   ]
  },
  {
   "cell_type": "code",
   "execution_count": 18,
   "metadata": {},
   "outputs": [],
   "source": [
    "model_name = 'distilbert/distilbert-base-uncased'"
   ]
  },
  {
   "cell_type": "code",
   "execution_count": 19,
   "metadata": {},
   "outputs": [
    {
     "name": "stderr",
     "output_type": "stream",
     "text": [
      "c:\\Users\\ayaan\\anaconda3\\envs\\myGPT\\lib\\site-packages\\transformers\\tokenization_utils_base.py:1601: FutureWarning: `clean_up_tokenization_spaces` was not set. It will be set to `True` by default. This behavior will be depracted in transformers v4.45, and will be then set to `False` by default. For more details check this issue: https://github.com/huggingface/transformers/issues/31884\n",
      "  warnings.warn(\n"
     ]
    }
   ],
   "source": [
    "tokenizer = AutoTokenizer.from_pretrained(model_name)"
   ]
  },
  {
   "cell_type": "code",
   "execution_count": 20,
   "metadata": {},
   "outputs": [],
   "source": [
    "def preprocess_function(tokenizer, examples):\n",
    "    return tokenizer(examples['text_cleaned'], truncation=True)"
   ]
  },
  {
   "cell_type": "code",
   "execution_count": 22,
   "metadata": {},
   "outputs": [
    {
     "name": "stderr",
     "output_type": "stream",
     "text": [
      "Map: 100%|██████████| 2204/2204 [00:00<00:00, 5385.11 examples/s]\n",
      "Map: 100%|██████████| 552/552 [00:00<00:00, 8305.82 examples/s]\n"
     ]
    }
   ],
   "source": [
    "# Convert pandas dataframe to huggingface dataset\n",
    "train_dataset = Dataset.from_pandas(df_train)\n",
    "test_dataset = Dataset.from_pandas(df_test)\n",
    "\n",
    "# tokenize the dataset\n",
    "tokenized_train = train_dataset.map(lambda examples: preprocess_function(tokenizer,examples), batched=True)\n",
    "tokenized_test = test_dataset.map(lambda examples: preprocess_function(tokenizer,examples), batched=True)"
   ]
  },
  {
   "cell_type": "code",
   "execution_count": null,
   "metadata": {},
   "outputs": [],
   "source": []
  }
 ],
 "metadata": {
  "kernelspec": {
   "display_name": "myGPT",
   "language": "python",
   "name": "python3"
  },
  "language_info": {
   "codemirror_mode": {
    "name": "ipython",
    "version": 3
   },
   "file_extension": ".py",
   "mimetype": "text/x-python",
   "name": "python",
   "nbconvert_exporter": "python",
   "pygments_lexer": "ipython3",
   "version": "3.8.19"
  }
 },
 "nbformat": 4,
 "nbformat_minor": 2
}
